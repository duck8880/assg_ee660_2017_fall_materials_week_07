{
 "cells": [
  {
   "cell_type": "markdown",
   "metadata": {},
   "source": [
    "# Assignment 2"
   ]
  },
  {
   "cell_type": "markdown",
   "metadata": {
    "collapsed": true
   },
   "source": [
    "(20pt) Draw the pipeline diagram of the following code executing on the shown in-order two-way superscalar processor. Assume that branches execute in pipeline A, loads/stores in pipeline B. Assume full bypassing when possible and no alignment problems.\n",
    "<img src=\"files/2_wide_superscalar.png\">\n",
    "\n",
    "```\n",
    "ADD R5, R6, R7\n",
    "SUB R6, R7, R8\n",
    "LW R10, R6(0)\n",
    "ADDIU R12, R13, 1\n",
    "LW R15, R6(4)\n",
    "LW R15, R15(4)\n",
    "ADD R6, R9, R10\n",
    "ADDIU R8, R10, 11\n",
    "\n",
    "```"
   ]
  },
  {
   "cell_type": "markdown",
   "metadata": {},
   "source": [
    "*Solution:*  \n",
    "  \n",
    "|                   | 1 | 2 | 3  | 4  | 5  | 6  | 7  | 8  | 9 | 10 | 11 | 12 | 13 | 14 |  \n",
    "|-------------------|---|---|----|----|----|----|----|----|---|----|----|----|----|----|  \n",
    "| ADD R5, R6, R7    | F | D | A0 | A1 | W  |    |    |    |   |    |    |    |    |    |  \n",
    "| SUB R6, R7, R8    | F | D | B0 | B1 | W  |    |    |    |   |    |    |    |    |    |  \n",
    "| LW R10, R6(0)     |   | F | D  | B0 | B1 | W  |    |    |   |    |    |    |    |    |  \n",
    "| ADDIU R12, R13, 1 |   | F | D  | A0 | A1 | W  |    |    |   |    |    |    |    |    |  \n",
    "| LW R15, R6(4)     |   |   | F  | D  | B0 | B1 | W  |    |   |    |    |    |    |    |  \n",
    "| LW R15, R15(4)    |   |   |    | F  | D  | s  | B0 | B1 | W |    |    |    |    |    |  \n",
    "| ADD R6, R9, R10   |   |   | F  | D  | s  | A0 | A1 | W  |   |    |    |    |    |    |  \n",
    "| ADDIU R8, R10, 11 |   |   |    | F  | D  | s  | A0 | A1 | W |    |    |    |    |    |  "
   ]
  },
  {
   "cell_type": "markdown",
   "metadata": {},
   "source": [
    "(20pt) Given that you have an architecture which has the following pipeline stages:\n",
    "\n",
    "```\n",
    "F  D  I  X0  X1 W\n",
    "```\n",
    "and that register fetch happens in the I stage of the pipeline and branch resolution happens in X1, how many dead instructions are need to be killed when a branch miss-predict is taken?  Now assume that the pipeline is   a three-wide superscalar, how many instructions need to be killed on a branch miss-predict?  (Assume that    the branch is the first instruction executing after a jump.)\n"
   ]
  },
  {
   "cell_type": "markdown",
   "metadata": {},
   "source": [
    "*Solution:*  \n",
    "If the CPU is none-superscalar, 4 instructions will be killed when a branch miss-predict is taken. The pipeline diagram is show as bellows. \n",
    "  \n",
    "|        | 1 | 2 | 3 | 4  | 5  | 6  | 7   | 8   | 9   | 10  | 11  | 12 |\n",
    "|--------|---|---|---|----|----|----|-----|-----|-----|-----|-----|----|\n",
    "| jump    | F | D | I | X0 | X1 | W  |     |     |     |     |     |    |\n",
    "| Branch |   | F | D | I  | X0 | X1 | W   |     |     |     |     |    |\n",
    "| op1    |   |   | F | D  | I  | X0 | nop | nop |     |     |     |    |\n",
    "| op2    |   |   |   | F  | D  | I  | nop | nop | nop |     |     |    |\n",
    "| op3    |   |   |   |    | F  | D  | nop | nop | nop | nop |     |    |\n",
    "| op4    |   |   |   |    |    | F  | nop | nop | nop | nop | nop |    |\n",
    "| op5    |   |   |   |    |    |    | F   | D   | I   | X0  | X1  | W  |  \n",
    "\n",
    "If the CPU is a three-wede superscalar, the number of killed instructions will be 4*3+2=14   "
   ]
  },
  {
   "cell_type": "markdown",
   "metadata": {},
   "source": [
    "(20pt) <cite data-cite=\"3453296/HNM2HL9R\"></cite>,  page 248-249, problem 3.3-3.4."
   ]
  },
  {
   "cell_type": "markdown",
   "metadata": {},
   "source": [
    "*Solution:*  \n",
    "3.3  \n",
    "19 cycles:  \n",
    "  \n",
    "|    | Pipeline 0     | Pipeline 1     |\n",
    "|----|----------------|----------------|\n",
    "| 0  | LD F2,0(RX)    | nop            |\n",
    "| 1  | s              | nop            |\n",
    "| 2  | s              | nop            |\n",
    "| 3  | s              | nop            |\n",
    "| 4  | DIVD F8,F2,F0  | MULTD F2,F6,F2 |\n",
    "| 5  | s              | s              |\n",
    "| 6  | s              | s              |\n",
    "| 7  | s              | s              |\n",
    "| 8  | s              | s              |\n",
    "| 9  | s              | LD F4,0(Ry)    |\n",
    "| 10 | s              | s              |\n",
    "| 11 | s              | s              |\n",
    "| 12 | s              | s              |\n",
    "| 13 | s              | ADDD F4,F0,F4  |\n",
    "| 14 | s              | nop            |\n",
    "| 15 | s              | nop            |\n",
    "| 16 | ADDD F10,F8,F2 | ADDI Rx,Rx,#8  |\n",
    "| 17 | ADDI Ry,Ry,#8  | SD F4,0(Ry)    |\n",
    "| 18 | SUB R20,R4,Rx  | BNZ R20,Loop   |\n",
    "\n",
    "\n",
    "3.4  \n",
    "(1) If instruction N and N+1 will finally write back to the same registor, the revised write-back order may cause wrong value in the registor.\n",
    "(2) If an interrupt occurs between the write-back of N+1 and N and returns after the write-back of N, the saved state may be corrupted by N."
   ]
  },
  {
   "cell_type": "markdown",
   "metadata": {},
   "source": [
    "(20pt) 2.4\tAssume that you have  the IO2I pipeline from lecture.  It can issue one instruction per  cycle and can commit one instruction per cycle. Draw the pipeline diagram of the following code sequence executing.\n",
    "```\n",
    "MUL R6, R7, R8 \n",
    "ADD R9, R10, R11 \n",
    "ADD R11, R12, R13 \n",
    "ADD R13, R14, R15 \n",
    "ADD R19, R13, R10 \n",
    "LW R2, R3\n",
    "ADD R12, R16, R19\n",
    "LW R5, R2\n",
    "ADD R15, R20, R21\n",
    "```"
   ]
  },
  {
   "cell_type": "markdown",
   "metadata": {},
   "source": [
    "*Solution:*  \n",
    "  \n",
    "|                   | 1 | 2 | 3 | 4  | 5  | 6  | 7  | 8  | 9  | 10 | 11 | 12 | 13 | 14 |   |   |   |\n",
    "|-------------------|---|---|---|----|----|----|----|----|----|----|----|----|----|----|---|---|---|\n",
    "| MUL R6, R7, R8    | F | D | I | Y0 | Y1 | Y2 | Y3 | W  | C  |    |    |    |    |    |   |   |   |\n",
    "| ADD R9, R10, R11  |   | F | D | I  | X0 | W  | r  |    |    | C  |    |    |    |    |   |   |   |\n",
    "| ADD R11, R12, R13 |   |   | F | D  | I  | X0 | W  | r  |    |    | C  |    |    |    |   |   |   |\n",
    "| ADD R13, R14, R15 |   |   |   | F  | D  | I  | X0 | X0 | W  | r  |    | C  |    |    |   |   |   |\n",
    "| ADD R19, R13, R10 |   |   |   |    | F  | D  | I  | I  | X0 | W  | r  |    | C  |    |   |   |   |\n",
    "| LW R2, R3         |   |   |   |    |    | F  | D  | D  | I  | X0 | W  | r  |    | C  |   |   |   |\n",
    "| ADD R12, R16, R19 |   |   |   |    |    |    | F  | F  | D  | I  | X0 | W  | r  |    | C |   |   |\n",
    "| LW R5, R2         |   |   |   |    |    |    |    |    | F  | D  | I  | X0 | W  | r  |   | C |   |\n",
    "| ADD R15, R20, R21 |   |   |   |    |    |    |    |    |    | F  | D  | I  | X0 | W  | r |   | C |"
   ]
  },
  {
   "cell_type": "markdown",
   "metadata": {},
   "source": [
    "(20pt) Assume architecture I2OI from lecture.  Draw the state of the scoreboard when instruction 3 is in the I (Issue) stage of the pipeline.\n",
    "```\n",
    "0: MUL R6, R7, R8\n",
    "1: ADD R9, R6, R11\n",
    "2: MUL R7, R1, R2\n",
    "3: LW R10, R12\n",
    "```"
   ]
  },
  {
   "cell_type": "markdown",
   "metadata": {},
   "source": [
    "*Solution:*\n",
    "Pipeline diagram:  \n",
    "  \n",
    "|                    | 1 | 2 | 3 | 4  | 5  | 6  | 7  | 8  | 9  | 10 | 11 | 12 | 13 |   |   |\n",
    "|--------------------|---|---|---|----|----|----|----|----|----|----|----|----|----|---|---|\n",
    "| 0: MUL R6, R7, R8  | F | D | I | Y0 | Y1 | Y3 | Y3 | W  | C  |    |    |    |    |   |   |\n",
    "| 1: ADD R9, R6, R11 |   | F | D | I  | I  | I  | I  | X0 | W  | C  |    |    |    |   |   |\n",
    "| 2: MUL R7, R1, R2  |   |   | F | D  | D  | D  | D  | I  | Y0 | Y1 | Y2 | Y3 | W  | C |   |\n",
    "| 3: LW R10, R12     |   |   |   | F  | F  | F  | F  | D  | I  | X0 | W  | R  |    |   | C |\n",
    "\n",
    "Scoreboard:  \n",
    "  \n",
    "|     | P | F | 4 | 3 | 2 | 1 | 0 |\n",
    "|-----|---|---|---|---|---|---|---|\n",
    "| R6  |   |   |   |   |   |   |   |\n",
    "| R9  |   |   |   |   |   |   | 1 |\n",
    "| R7  |   |   | 1 |   |   |   |   |\n",
    "| R10 |   |   |   |   |   |   |   |  \n"
   ]
  }
 ],
 "metadata": {
  "cite2c": {
   "citations": {
    "3453296/HNM2HL9R": {
     "ISBN": "978-0-12-383872-8",
     "URL": "http://booksite.elsevier.com/9780123838728",
     "author": [
      {
       "family": "Patterson",
       "given": "David A."
      },
      {
       "family": "Hennessy",
       "given": "John L."
      }
     ],
     "edition": "5",
     "id": "3453296/HNM2HL9R",
     "issued": {
      "year": "2011"
     },
     "publisher": "Morgan Kaufmann Publishers Inc.",
     "title": "Computer Architecture: A Quantitative Approach",
     "type": "book"
    }
   }
  },
  "kernelspec": {
   "display_name": "Python 2",
   "language": "python",
   "name": "python2"
  },
  "language_info": {
   "codemirror_mode": {
    "name": "ipython",
    "version": 2
   },
   "file_extension": ".py",
   "mimetype": "text/x-python",
   "name": "python",
   "nbconvert_exporter": "python",
   "pygments_lexer": "ipython2",
   "version": "2.7.13"
  }
 },
 "nbformat": 4,
 "nbformat_minor": 2
}

