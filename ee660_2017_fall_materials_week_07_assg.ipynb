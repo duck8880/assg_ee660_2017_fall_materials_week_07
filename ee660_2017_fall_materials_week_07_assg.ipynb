{
 "cells": [
  {
   "cell_type": "markdown",
   "metadata": {},
   "source": [
    "# Assignment 2"
   ]
  },
  {
   "cell_type": "markdown",
   "metadata": {
    "collapsed": true
   },
   "source": [
    "(20pt) Draw the pipeline diagram of the following code executing on the shown in-order two-way superscalar processor. Assume that branches execute in pipeline A, loads/stores in pipeline B. Assume full bypassing when possible and no alignment problems.\n",
    "<img src=\"files/2_wide_superscalar.png\">\n",
    "\n",
    "```\n",
    "ADD R5, R6, R7\n",
    "SUB R6, R7, R8\n",
    "LW R10, R6(0)\n",
    "ADDIU R12, R13, 1\n",
    "LW R15, R6(4)\n",
    "LW R15, R15(4)\n",
    "ADD R6, R9, R10\n",
    "ADDIU R8, R10, 11\n",
    "\n",
    "```"
   ]
  },
  {
   "cell_type": "markdown",
   "metadata": {},
   "source": [
    "*Solution:*"
   ]
  },
  {
   "cell_type": "markdown",
   "metadata": {},
   "source": [
    "(20pt) Given that you have an architecture which has the following pipeline stages:\n",
    "\n",
    "```\n",
    "F  D  I  X0  X1 W\n",
    "```\n",
    "and that register fetch happens in the I stage of the pipeline and branch resolution happens in X1, how many dead instructions are need to be killed when a branch miss-predict is taken?  Now assume that the pipeline is   a three-wide superscalar, how many instructions need to be killed on a branch miss-predict?  (Assume that    the branch is the first instruction executing after a jump.)\n"
   ]
  },
  {
   "cell_type": "markdown",
   "metadata": {},
   "source": [
    "*Solution:*"
   ]
  },
  {
   "cell_type": "markdown",
   "metadata": {},
   "source": [
    "(20pt) <cite data-cite=\"3453296/HNM2HL9R\"></cite>,  page 248-249, problem 3.3-3.4."
   ]
  },
  {
   "cell_type": "markdown",
   "metadata": {},
   "source": [
    "*Solution:*"
   ]
  },
  {
   "cell_type": "markdown",
   "metadata": {},
   "source": [
    "(20pt) 2.4\tAssume that you have  the IO2I pipeline from lecture.  It can issue one instruction per  cycle and can commit one instruction per cycle. Draw the pipeline diagram of the following code sequence executing.\n",
    "```\n",
    "MUL R6, R7, R8 \n",
    "ADD R9, R10, R11 \n",
    "ADD R11, R12, R13 \n",
    "ADD R13, R14, R15 \n",
    "ADD R19, R13, R10 \n",
    "LW R2, R3\n",
    "ADD R12, R16, R19\n",
    "LW R5, R2\n",
    "ADD R15, R20, R21\n",
    "```"
   ]
  },
  {
   "cell_type": "markdown",
   "metadata": {},
   "source": [
    "*Solution:*"
   ]
  },
  {
   "cell_type": "markdown",
   "metadata": {},
   "source": [
    "(20pt) Assume architecture I2OI from lecture.  Draw the state of the scoreboard when instruction 3 is in the I (Issue) stage of the pipeline.\n",
    "```\n",
    "0: MUL R6, R7, R8\n",
    "1: ADD R9, R6, R11\n",
    "2: MUL R7, R1, R2\n",
    "3: LW R10, R12\n",
    "```"
   ]
  },
  {
   "cell_type": "markdown",
   "metadata": {},
   "source": [
    "<div class=\"cite2c-biblio\"></div>"
   ]
  }
 ],
 "metadata": {
  "cite2c": {
   "citations": {
    "3453296/HNM2HL9R": {
     "ISBN": "978-0-12-383872-8",
     "URL": "http://booksite.elsevier.com/9780123838728",
     "author": [
      {
       "family": "Patterson",
       "given": "David A."
      },
      {
       "family": "Hennessy",
       "given": "John L."
      }
     ],
     "edition": "5",
     "id": "3453296/HNM2HL9R",
     "issued": {
      "year": "2011"
     },
     "publisher": "Morgan Kaufmann Publishers Inc.",
     "title": "Computer Architecture: A Quantitative Approach",
     "type": "book"
    }
   }
  },
  "kernelspec": {
   "display_name": "Python 2",
   "language": "python",
   "name": "python2"
  },
  "language_info": {
   "codemirror_mode": {
    "name": "ipython",
    "version": 2
   },
   "file_extension": ".py",
   "mimetype": "text/x-python",
   "name": "python",
   "nbconvert_exporter": "python",
   "pygments_lexer": "ipython2",
   "version": "2.7.13"
  }
 },
 "nbformat": 4,
 "nbformat_minor": 2
}
